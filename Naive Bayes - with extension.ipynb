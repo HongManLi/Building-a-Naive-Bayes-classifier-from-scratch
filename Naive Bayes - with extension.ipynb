{
 "cells": [
  {
   "cell_type": "code",
   "execution_count": 1,
   "metadata": {},
   "outputs": [],
   "source": [
    "import pandas as pd\n",
    "import numpy as np\n",
    "import nltk\n",
    "from nltk.corpus import stopwords"
   ]
  },
  {
   "cell_type": "code",
   "execution_count": 2,
   "metadata": {},
   "outputs": [
    {
     "data": {
      "text/html": [
       "<div>\n",
       "<style scoped>\n",
       "    .dataframe tbody tr th:only-of-type {\n",
       "        vertical-align: middle;\n",
       "    }\n",
       "\n",
       "    .dataframe tbody tr th {\n",
       "        vertical-align: top;\n",
       "    }\n",
       "\n",
       "    .dataframe thead th {\n",
       "        text-align: right;\n",
       "    }\n",
       "</style>\n",
       "<table border=\"1\" class=\"dataframe\">\n",
       "  <thead>\n",
       "    <tr style=\"text-align: right;\">\n",
       "      <th></th>\n",
       "      <th>id</th>\n",
       "      <th>class</th>\n",
       "      <th>abstract</th>\n",
       "    </tr>\n",
       "  </thead>\n",
       "  <tbody>\n",
       "    <tr>\n",
       "      <th>0</th>\n",
       "      <td>1</td>\n",
       "      <td>B</td>\n",
       "      <td>the 4 202 353 bp genome of the alkaliphilic ba...</td>\n",
       "    </tr>\n",
       "    <tr>\n",
       "      <th>1</th>\n",
       "      <td>2</td>\n",
       "      <td>A</td>\n",
       "      <td>the complete 1751377-bp sequence of the genome...</td>\n",
       "    </tr>\n",
       "    <tr>\n",
       "      <th>2</th>\n",
       "      <td>3</td>\n",
       "      <td>E</td>\n",
       "      <td>in 1992 we started assembling an ordered libra...</td>\n",
       "    </tr>\n",
       "    <tr>\n",
       "      <th>3</th>\n",
       "      <td>4</td>\n",
       "      <td>E</td>\n",
       "      <td>the aim of this study is to measure human mito...</td>\n",
       "    </tr>\n",
       "    <tr>\n",
       "      <th>4</th>\n",
       "      <td>5</td>\n",
       "      <td>B</td>\n",
       "      <td>the amino acid sequence of the spirulina maxim...</td>\n",
       "    </tr>\n",
       "  </tbody>\n",
       "</table>\n",
       "</div>"
      ],
      "text/plain": [
       "   id class                                           abstract\n",
       "0   1     B  the 4 202 353 bp genome of the alkaliphilic ba...\n",
       "1   2     A  the complete 1751377-bp sequence of the genome...\n",
       "2   3     E  in 1992 we started assembling an ordered libra...\n",
       "3   4     E  the aim of this study is to measure human mito...\n",
       "4   5     B  the amino acid sequence of the spirulina maxim..."
      ]
     },
     "execution_count": 2,
     "metadata": {},
     "output_type": "execute_result"
    }
   ],
   "source": [
    "data = pd.read_csv(\"trg.csv\")\n",
    "data.head()"
   ]
  },
  {
   "cell_type": "code",
   "execution_count": 3,
   "metadata": {},
   "outputs": [
    {
     "data": {
      "text/html": [
       "<div>\n",
       "<style scoped>\n",
       "    .dataframe tbody tr th:only-of-type {\n",
       "        vertical-align: middle;\n",
       "    }\n",
       "\n",
       "    .dataframe tbody tr th {\n",
       "        vertical-align: top;\n",
       "    }\n",
       "\n",
       "    .dataframe thead th {\n",
       "        text-align: right;\n",
       "    }\n",
       "</style>\n",
       "<table border=\"1\" class=\"dataframe\">\n",
       "  <thead>\n",
       "    <tr style=\"text-align: right;\">\n",
       "      <th></th>\n",
       "      <th>id</th>\n",
       "      <th>class</th>\n",
       "      <th>abstract</th>\n",
       "      <th>abstract_splitted</th>\n",
       "    </tr>\n",
       "  </thead>\n",
       "  <tbody>\n",
       "    <tr>\n",
       "      <th>0</th>\n",
       "      <td>1</td>\n",
       "      <td>B</td>\n",
       "      <td>the 4 202 353 bp genome of the alkaliphilic ba...</td>\n",
       "      <td>[the, 4, 202, 353, bp, genome, of, the, alkali...</td>\n",
       "    </tr>\n",
       "    <tr>\n",
       "      <th>1</th>\n",
       "      <td>2</td>\n",
       "      <td>A</td>\n",
       "      <td>the complete 1751377-bp sequence of the genome...</td>\n",
       "      <td>[the, complete, 1751377-bp, sequence, of, the,...</td>\n",
       "    </tr>\n",
       "    <tr>\n",
       "      <th>2</th>\n",
       "      <td>3</td>\n",
       "      <td>E</td>\n",
       "      <td>in 1992 we started assembling an ordered libra...</td>\n",
       "      <td>[in, 1992, we, started, assembling, an, ordere...</td>\n",
       "    </tr>\n",
       "    <tr>\n",
       "      <th>3</th>\n",
       "      <td>4</td>\n",
       "      <td>E</td>\n",
       "      <td>the aim of this study is to measure human mito...</td>\n",
       "      <td>[the, aim, of, this, study, is, to, measure, h...</td>\n",
       "    </tr>\n",
       "    <tr>\n",
       "      <th>4</th>\n",
       "      <td>5</td>\n",
       "      <td>B</td>\n",
       "      <td>the amino acid sequence of the spirulina maxim...</td>\n",
       "      <td>[the, amino, acid, sequence, of, the, spirulin...</td>\n",
       "    </tr>\n",
       "  </tbody>\n",
       "</table>\n",
       "</div>"
      ],
      "text/plain": [
       "   id class                                           abstract  \\\n",
       "0   1     B  the 4 202 353 bp genome of the alkaliphilic ba...   \n",
       "1   2     A  the complete 1751377-bp sequence of the genome...   \n",
       "2   3     E  in 1992 we started assembling an ordered libra...   \n",
       "3   4     E  the aim of this study is to measure human mito...   \n",
       "4   5     B  the amino acid sequence of the spirulina maxim...   \n",
       "\n",
       "                                   abstract_splitted  \n",
       "0  [the, 4, 202, 353, bp, genome, of, the, alkali...  \n",
       "1  [the, complete, 1751377-bp, sequence, of, the,...  \n",
       "2  [in, 1992, we, started, assembling, an, ordere...  \n",
       "3  [the, aim, of, this, study, is, to, measure, h...  \n",
       "4  [the, amino, acid, sequence, of, the, spirulin...  "
      ]
     },
     "execution_count": 3,
     "metadata": {},
     "output_type": "execute_result"
    }
   ],
   "source": [
    "data[\"abstract_splitted\"] = data[\"abstract\"].apply(lambda x: x.split())\n",
    "data.head()"
   ]
  },
  {
   "cell_type": "code",
   "execution_count": 4,
   "metadata": {},
   "outputs": [],
   "source": [
    "#REMOVE words present in all 4 classes\n",
    "A = set(data[data['class'] == 'A'].iloc[:,-2].str.cat(sep=\" \").split())\n",
    "B = set(data[data['class'] == 'B'].iloc[:,-2].str.cat(sep=\" \").split())\n",
    "E = set(data[data['class'] == 'E'].iloc[:,-2].str.cat(sep=\" \").split())\n",
    "V = set(data[data['class'] == 'V'].iloc[:,-2].str.cat(sep=\" \").split())\n",
    "\n",
    "intersection = A.intersection(B,E,V)"
   ]
  },
  {
   "cell_type": "code",
   "execution_count": 5,
   "metadata": {},
   "outputs": [],
   "source": [
    "every_word = data['abstract'].str.cat(sep=\" \")\n",
    "every_word = every_word.split()"
   ]
  },
  {
   "cell_type": "code",
   "execution_count": 6,
   "metadata": {},
   "outputs": [
    {
     "data": {
      "text/plain": [
       "32241"
      ]
     },
     "execution_count": 6,
     "metadata": {},
     "output_type": "execute_result"
    }
   ],
   "source": [
    "every_word = set(every_word)\n",
    "len(every_word)"
   ]
  },
  {
   "cell_type": "code",
   "execution_count": 7,
   "metadata": {},
   "outputs": [
    {
     "data": {
      "text/plain": [
       "31319"
      ]
     },
     "execution_count": 7,
     "metadata": {},
     "output_type": "execute_result"
    }
   ],
   "source": [
    "every_word = every_word - intersection\n",
    "len(every_word)"
   ]
  },
  {
   "cell_type": "code",
   "execution_count": 8,
   "metadata": {},
   "outputs": [],
   "source": [
    "stopwordss = set(stopwords.words('english'))"
   ]
  },
  {
   "cell_type": "code",
   "execution_count": 9,
   "metadata": {},
   "outputs": [],
   "source": [
    "cleaned_words = [word for word in every_word if word not in stopwordss]"
   ]
  },
  {
   "cell_type": "code",
   "execution_count": 10,
   "metadata": {
    "scrolled": true
   },
   "outputs": [
    {
     "data": {
      "text/html": [
       "<div>\n",
       "<style scoped>\n",
       "    .dataframe tbody tr th:only-of-type {\n",
       "        vertical-align: middle;\n",
       "    }\n",
       "\n",
       "    .dataframe tbody tr th {\n",
       "        vertical-align: top;\n",
       "    }\n",
       "\n",
       "    .dataframe thead th {\n",
       "        text-align: right;\n",
       "    }\n",
       "</style>\n",
       "<table border=\"1\" class=\"dataframe\">\n",
       "  <thead>\n",
       "    <tr style=\"text-align: right;\">\n",
       "      <th></th>\n",
       "      <th>25-</th>\n",
       "      <th>phmt112</th>\n",
       "      <th>machesky</th>\n",
       "      <th>gly-x-y</th>\n",
       "      <th>able</th>\n",
       "      <th>endowed</th>\n",
       "      <th>psbb-ycf8-psbh-petb-petd</th>\n",
       "      <th>14000</th>\n",
       "      <th>47-</th>\n",
       "      <th>profiling</th>\n",
       "      <th>...</th>\n",
       "      <th>ca2-dependent</th>\n",
       "      <th>overland</th>\n",
       "      <th>agricultural</th>\n",
       "      <th>substrate</th>\n",
       "      <th>1143</th>\n",
       "      <th>fluctuations</th>\n",
       "      <th>calf</th>\n",
       "      <th>pupae</th>\n",
       "      <th>abstract_splitted</th>\n",
       "      <th>target_class</th>\n",
       "    </tr>\n",
       "  </thead>\n",
       "  <tbody>\n",
       "    <tr>\n",
       "      <th>0</th>\n",
       "      <td>0.0</td>\n",
       "      <td>0.0</td>\n",
       "      <td>0.0</td>\n",
       "      <td>0.0</td>\n",
       "      <td>0.0</td>\n",
       "      <td>0.0</td>\n",
       "      <td>0.0</td>\n",
       "      <td>0.0</td>\n",
       "      <td>0.0</td>\n",
       "      <td>0.0</td>\n",
       "      <td>...</td>\n",
       "      <td>0.0</td>\n",
       "      <td>0.0</td>\n",
       "      <td>0.0</td>\n",
       "      <td>0.0</td>\n",
       "      <td>0.0</td>\n",
       "      <td>0.0</td>\n",
       "      <td>0.0</td>\n",
       "      <td>0.0</td>\n",
       "      <td>[the, 4, 202, 353, bp, genome, of, the, alkali...</td>\n",
       "      <td>B</td>\n",
       "    </tr>\n",
       "    <tr>\n",
       "      <th>1</th>\n",
       "      <td>0.0</td>\n",
       "      <td>0.0</td>\n",
       "      <td>0.0</td>\n",
       "      <td>0.0</td>\n",
       "      <td>0.0</td>\n",
       "      <td>0.0</td>\n",
       "      <td>0.0</td>\n",
       "      <td>0.0</td>\n",
       "      <td>0.0</td>\n",
       "      <td>0.0</td>\n",
       "      <td>...</td>\n",
       "      <td>0.0</td>\n",
       "      <td>0.0</td>\n",
       "      <td>0.0</td>\n",
       "      <td>0.0</td>\n",
       "      <td>0.0</td>\n",
       "      <td>0.0</td>\n",
       "      <td>0.0</td>\n",
       "      <td>0.0</td>\n",
       "      <td>[the, complete, 1751377-bp, sequence, of, the,...</td>\n",
       "      <td>A</td>\n",
       "    </tr>\n",
       "    <tr>\n",
       "      <th>2</th>\n",
       "      <td>0.0</td>\n",
       "      <td>0.0</td>\n",
       "      <td>0.0</td>\n",
       "      <td>0.0</td>\n",
       "      <td>0.0</td>\n",
       "      <td>0.0</td>\n",
       "      <td>0.0</td>\n",
       "      <td>0.0</td>\n",
       "      <td>0.0</td>\n",
       "      <td>0.0</td>\n",
       "      <td>...</td>\n",
       "      <td>0.0</td>\n",
       "      <td>0.0</td>\n",
       "      <td>0.0</td>\n",
       "      <td>0.0</td>\n",
       "      <td>0.0</td>\n",
       "      <td>0.0</td>\n",
       "      <td>0.0</td>\n",
       "      <td>0.0</td>\n",
       "      <td>[in, 1992, we, started, assembling, an, ordere...</td>\n",
       "      <td>E</td>\n",
       "    </tr>\n",
       "    <tr>\n",
       "      <th>3</th>\n",
       "      <td>0.0</td>\n",
       "      <td>0.0</td>\n",
       "      <td>0.0</td>\n",
       "      <td>0.0</td>\n",
       "      <td>0.0</td>\n",
       "      <td>0.0</td>\n",
       "      <td>0.0</td>\n",
       "      <td>0.0</td>\n",
       "      <td>0.0</td>\n",
       "      <td>0.0</td>\n",
       "      <td>...</td>\n",
       "      <td>0.0</td>\n",
       "      <td>0.0</td>\n",
       "      <td>0.0</td>\n",
       "      <td>0.0</td>\n",
       "      <td>0.0</td>\n",
       "      <td>0.0</td>\n",
       "      <td>0.0</td>\n",
       "      <td>0.0</td>\n",
       "      <td>[the, aim, of, this, study, is, to, measure, h...</td>\n",
       "      <td>E</td>\n",
       "    </tr>\n",
       "    <tr>\n",
       "      <th>4</th>\n",
       "      <td>0.0</td>\n",
       "      <td>0.0</td>\n",
       "      <td>0.0</td>\n",
       "      <td>0.0</td>\n",
       "      <td>0.0</td>\n",
       "      <td>0.0</td>\n",
       "      <td>0.0</td>\n",
       "      <td>0.0</td>\n",
       "      <td>0.0</td>\n",
       "      <td>0.0</td>\n",
       "      <td>...</td>\n",
       "      <td>0.0</td>\n",
       "      <td>0.0</td>\n",
       "      <td>0.0</td>\n",
       "      <td>0.0</td>\n",
       "      <td>0.0</td>\n",
       "      <td>0.0</td>\n",
       "      <td>0.0</td>\n",
       "      <td>0.0</td>\n",
       "      <td>[the, amino, acid, sequence, of, the, spirulin...</td>\n",
       "      <td>B</td>\n",
       "    </tr>\n",
       "  </tbody>\n",
       "</table>\n",
       "<p>5 rows × 31284 columns</p>\n",
       "</div>"
      ],
      "text/plain": [
       "   25-  phmt112  machesky  gly-x-y  able  endowed  psbb-ycf8-psbh-petb-petd  \\\n",
       "0  0.0      0.0       0.0      0.0   0.0      0.0                       0.0   \n",
       "1  0.0      0.0       0.0      0.0   0.0      0.0                       0.0   \n",
       "2  0.0      0.0       0.0      0.0   0.0      0.0                       0.0   \n",
       "3  0.0      0.0       0.0      0.0   0.0      0.0                       0.0   \n",
       "4  0.0      0.0       0.0      0.0   0.0      0.0                       0.0   \n",
       "\n",
       "   14000  47-  profiling  ...  ca2-dependent  overland  agricultural  \\\n",
       "0    0.0  0.0        0.0  ...            0.0       0.0           0.0   \n",
       "1    0.0  0.0        0.0  ...            0.0       0.0           0.0   \n",
       "2    0.0  0.0        0.0  ...            0.0       0.0           0.0   \n",
       "3    0.0  0.0        0.0  ...            0.0       0.0           0.0   \n",
       "4    0.0  0.0        0.0  ...            0.0       0.0           0.0   \n",
       "\n",
       "   substrate  1143  fluctuations  calf  pupae  \\\n",
       "0        0.0   0.0           0.0   0.0    0.0   \n",
       "1        0.0   0.0           0.0   0.0    0.0   \n",
       "2        0.0   0.0           0.0   0.0    0.0   \n",
       "3        0.0   0.0           0.0   0.0    0.0   \n",
       "4        0.0   0.0           0.0   0.0    0.0   \n",
       "\n",
       "                                   abstract_splitted  target_class  \n",
       "0  [the, 4, 202, 353, bp, genome, of, the, alkali...             B  \n",
       "1  [the, complete, 1751377-bp, sequence, of, the,...             A  \n",
       "2  [in, 1992, we, started, assembling, an, ordere...             E  \n",
       "3  [the, aim, of, this, study, is, to, measure, h...             E  \n",
       "4  [the, amino, acid, sequence, of, the, spirulin...             B  \n",
       "\n",
       "[5 rows x 31284 columns]"
      ]
     },
     "execution_count": 10,
     "metadata": {},
     "output_type": "execute_result"
    }
   ],
   "source": [
    "refined_dataframe = pd.DataFrame(np.zeros((data.shape[0],len(cleaned_words)), dtype=float), columns=cleaned_words)\n",
    "refined_dataframe['abstract_splitted'] = data['abstract_splitted']\n",
    "refined_dataframe['target_class'] = data['class']\n",
    "refined_dataframe.head()"
   ]
  },
  {
   "cell_type": "code",
   "execution_count": 11,
   "metadata": {},
   "outputs": [
    {
     "data": {
      "text/plain": [
       "(4000, 31284)"
      ]
     },
     "execution_count": 11,
     "metadata": {},
     "output_type": "execute_result"
    }
   ],
   "source": [
    "refined_dataframe.shape"
   ]
  },
  {
   "cell_type": "code",
   "execution_count": 12,
   "metadata": {},
   "outputs": [
    {
     "data": {
      "text/html": [
       "<div>\n",
       "<style scoped>\n",
       "    .dataframe tbody tr th:only-of-type {\n",
       "        vertical-align: middle;\n",
       "    }\n",
       "\n",
       "    .dataframe tbody tr th {\n",
       "        vertical-align: top;\n",
       "    }\n",
       "\n",
       "    .dataframe thead th {\n",
       "        text-align: right;\n",
       "    }\n",
       "</style>\n",
       "<table border=\"1\" class=\"dataframe\">\n",
       "  <thead>\n",
       "    <tr style=\"text-align: right;\">\n",
       "      <th></th>\n",
       "      <th>25-</th>\n",
       "      <th>phmt112</th>\n",
       "      <th>machesky</th>\n",
       "      <th>gly-x-y</th>\n",
       "      <th>able</th>\n",
       "      <th>endowed</th>\n",
       "      <th>psbb-ycf8-psbh-petb-petd</th>\n",
       "      <th>14000</th>\n",
       "      <th>47-</th>\n",
       "      <th>profiling</th>\n",
       "      <th>...</th>\n",
       "      <th>ca2-dependent</th>\n",
       "      <th>overland</th>\n",
       "      <th>agricultural</th>\n",
       "      <th>substrate</th>\n",
       "      <th>1143</th>\n",
       "      <th>fluctuations</th>\n",
       "      <th>calf</th>\n",
       "      <th>pupae</th>\n",
       "      <th>abstract_splitted</th>\n",
       "      <th>target_class</th>\n",
       "    </tr>\n",
       "  </thead>\n",
       "  <tbody>\n",
       "    <tr>\n",
       "      <th>0</th>\n",
       "      <td>0.0</td>\n",
       "      <td>0.0</td>\n",
       "      <td>0.0</td>\n",
       "      <td>0.0</td>\n",
       "      <td>0.0</td>\n",
       "      <td>0.0</td>\n",
       "      <td>0.0</td>\n",
       "      <td>0.0</td>\n",
       "      <td>0.0</td>\n",
       "      <td>0.0</td>\n",
       "      <td>...</td>\n",
       "      <td>0.0</td>\n",
       "      <td>0.0</td>\n",
       "      <td>0.0</td>\n",
       "      <td>0.0</td>\n",
       "      <td>0.0</td>\n",
       "      <td>0.0</td>\n",
       "      <td>0.0</td>\n",
       "      <td>0.0</td>\n",
       "      <td>[202, 353, alkaliphilic, bacterium, bacillus, ...</td>\n",
       "      <td>B</td>\n",
       "    </tr>\n",
       "    <tr>\n",
       "      <th>1</th>\n",
       "      <td>0.0</td>\n",
       "      <td>0.0</td>\n",
       "      <td>0.0</td>\n",
       "      <td>0.0</td>\n",
       "      <td>0.0</td>\n",
       "      <td>0.0</td>\n",
       "      <td>0.0</td>\n",
       "      <td>0.0</td>\n",
       "      <td>0.0</td>\n",
       "      <td>0.0</td>\n",
       "      <td>...</td>\n",
       "      <td>0.0</td>\n",
       "      <td>0.0</td>\n",
       "      <td>0.0</td>\n",
       "      <td>0.0</td>\n",
       "      <td>0.0</td>\n",
       "      <td>0.0</td>\n",
       "      <td>0.0</td>\n",
       "      <td>0.0</td>\n",
       "      <td>[1751377-bp, archaeon, methanobacterium, therm...</td>\n",
       "      <td>A</td>\n",
       "    </tr>\n",
       "    <tr>\n",
       "      <th>2</th>\n",
       "      <td>0.0</td>\n",
       "      <td>0.0</td>\n",
       "      <td>0.0</td>\n",
       "      <td>0.0</td>\n",
       "      <td>0.0</td>\n",
       "      <td>0.0</td>\n",
       "      <td>0.0</td>\n",
       "      <td>0.0</td>\n",
       "      <td>0.0</td>\n",
       "      <td>0.0</td>\n",
       "      <td>...</td>\n",
       "      <td>0.0</td>\n",
       "      <td>0.0</td>\n",
       "      <td>0.0</td>\n",
       "      <td>0.0</td>\n",
       "      <td>0.0</td>\n",
       "      <td>0.0</td>\n",
       "      <td>0.0</td>\n",
       "      <td>0.0</td>\n",
       "      <td>[1992, started, assembling, ordered, cosmid, x...</td>\n",
       "      <td>E</td>\n",
       "    </tr>\n",
       "    <tr>\n",
       "      <th>3</th>\n",
       "      <td>0.0</td>\n",
       "      <td>0.0</td>\n",
       "      <td>0.0</td>\n",
       "      <td>0.0</td>\n",
       "      <td>0.0</td>\n",
       "      <td>0.0</td>\n",
       "      <td>0.0</td>\n",
       "      <td>0.0</td>\n",
       "      <td>0.0</td>\n",
       "      <td>0.0</td>\n",
       "      <td>...</td>\n",
       "      <td>0.0</td>\n",
       "      <td>0.0</td>\n",
       "      <td>0.0</td>\n",
       "      <td>0.0</td>\n",
       "      <td>0.0</td>\n",
       "      <td>0.0</td>\n",
       "      <td>0.0</td>\n",
       "      <td>0.0</td>\n",
       "      <td>[aim, measure, mitochondrial, variability, rel...</td>\n",
       "      <td>E</td>\n",
       "    </tr>\n",
       "    <tr>\n",
       "      <th>4</th>\n",
       "      <td>0.0</td>\n",
       "      <td>0.0</td>\n",
       "      <td>0.0</td>\n",
       "      <td>0.0</td>\n",
       "      <td>0.0</td>\n",
       "      <td>0.0</td>\n",
       "      <td>0.0</td>\n",
       "      <td>0.0</td>\n",
       "      <td>0.0</td>\n",
       "      <td>0.0</td>\n",
       "      <td>...</td>\n",
       "      <td>0.0</td>\n",
       "      <td>0.0</td>\n",
       "      <td>0.0</td>\n",
       "      <td>0.0</td>\n",
       "      <td>0.0</td>\n",
       "      <td>0.0</td>\n",
       "      <td>0.0</td>\n",
       "      <td>0.0</td>\n",
       "      <td>[spirulina, maxima, ferredoxin, h2n-ala-thr-ty...</td>\n",
       "      <td>B</td>\n",
       "    </tr>\n",
       "  </tbody>\n",
       "</table>\n",
       "<p>5 rows × 31284 columns</p>\n",
       "</div>"
      ],
      "text/plain": [
       "   25-  phmt112  machesky  gly-x-y  able  endowed  psbb-ycf8-psbh-petb-petd  \\\n",
       "0  0.0      0.0       0.0      0.0   0.0      0.0                       0.0   \n",
       "1  0.0      0.0       0.0      0.0   0.0      0.0                       0.0   \n",
       "2  0.0      0.0       0.0      0.0   0.0      0.0                       0.0   \n",
       "3  0.0      0.0       0.0      0.0   0.0      0.0                       0.0   \n",
       "4  0.0      0.0       0.0      0.0   0.0      0.0                       0.0   \n",
       "\n",
       "   14000  47-  profiling  ...  ca2-dependent  overland  agricultural  \\\n",
       "0    0.0  0.0        0.0  ...            0.0       0.0           0.0   \n",
       "1    0.0  0.0        0.0  ...            0.0       0.0           0.0   \n",
       "2    0.0  0.0        0.0  ...            0.0       0.0           0.0   \n",
       "3    0.0  0.0        0.0  ...            0.0       0.0           0.0   \n",
       "4    0.0  0.0        0.0  ...            0.0       0.0           0.0   \n",
       "\n",
       "   substrate  1143  fluctuations  calf  pupae  \\\n",
       "0        0.0   0.0           0.0   0.0    0.0   \n",
       "1        0.0   0.0           0.0   0.0    0.0   \n",
       "2        0.0   0.0           0.0   0.0    0.0   \n",
       "3        0.0   0.0           0.0   0.0    0.0   \n",
       "4        0.0   0.0           0.0   0.0    0.0   \n",
       "\n",
       "                                   abstract_splitted  target_class  \n",
       "0  [202, 353, alkaliphilic, bacterium, bacillus, ...             B  \n",
       "1  [1751377-bp, archaeon, methanobacterium, therm...             A  \n",
       "2  [1992, started, assembling, ordered, cosmid, x...             E  \n",
       "3  [aim, measure, mitochondrial, variability, rel...             E  \n",
       "4  [spirulina, maxima, ferredoxin, h2n-ala-thr-ty...             B  \n",
       "\n",
       "[5 rows x 31284 columns]"
      ]
     },
     "execution_count": 12,
     "metadata": {},
     "output_type": "execute_result"
    }
   ],
   "source": [
    "#Get rid of stopwords in abstract_splitted and get rid of intersected words in abstract\n",
    "refined_dataframe['abstract_splitted'] = refined_dataframe['abstract_splitted'].apply(lambda x: [word for word in x if word not in stopwordss])\n",
    "refined_dataframe['abstract_splitted'] = refined_dataframe['abstract_splitted'].apply(lambda x: [word for word in x if word not in intersection])\n",
    "#refined_dataframe['abstract_splitted'] = refined_dataframe['abstract_splitted'].apply(lambda x: list(set(x) - intersection))\n",
    "refined_dataframe.head()"
   ]
  },
  {
   "cell_type": "code",
   "execution_count": 13,
   "metadata": {},
   "outputs": [],
   "source": [
    "# Final step in feature engineering\n",
    "for rows in range(0, refined_dataframe.shape[0]):\n",
    "    abstract = refined_dataframe['abstract_splitted'].iloc[rows]\n",
    "    for i in range(0, len(abstract)):\n",
    "        word = abstract[i]\n",
    "        refined_dataframe.at[rows, word] += 1\n",
    "\n"
   ]
  },
  {
   "cell_type": "markdown",
   "metadata": {},
   "source": [
    "### Getting everything ready for the Bayes formula"
   ]
  },
  {
   "cell_type": "code",
   "execution_count": 14,
   "metadata": {},
   "outputs": [],
   "source": [
    "#Get the 4 class separated dataframes now so its not that slow for the functions later on\n",
    "As = refined_dataframe[refined_dataframe['target_class'] == 'A']\n",
    "Bs = refined_dataframe[refined_dataframe['target_class'] == 'B']\n",
    "Es = refined_dataframe[refined_dataframe['target_class'] == 'E']\n",
    "Vs = refined_dataframe[refined_dataframe['target_class'] == 'V']"
   ]
  },
  {
   "cell_type": "code",
   "execution_count": 15,
   "metadata": {},
   "outputs": [],
   "source": [
    "#Get the 4 priors.... speed things up\n",
    "prior_A = np.log10((refined_dataframe.target_class.value_counts()['A'])/refined_dataframe.shape[0])\n",
    "prior_B = np.log10((refined_dataframe.target_class.value_counts()['B'])/refined_dataframe.shape[0])\n",
    "prior_E = np.log10((refined_dataframe.target_class.value_counts()['E'])/refined_dataframe.shape[0])\n",
    "prior_V = np.log10((refined_dataframe.target_class.value_counts()['V'])/refined_dataframe.shape[0])"
   ]
  },
  {
   "cell_type": "code",
   "execution_count": 16,
   "metadata": {},
   "outputs": [],
   "source": [
    "## EXTENSION \n",
    "k = refined_dataframe.shape[0]"
   ]
  },
  {
   "cell_type": "code",
   "execution_count": 17,
   "metadata": {},
   "outputs": [
    {
     "data": {
      "text/plain": [
       "0.0    3999\n",
       "2.0       1\n",
       "Name: patna, dtype: int64"
      ]
     },
     "execution_count": 17,
     "metadata": {},
     "output_type": "execute_result"
    }
   ],
   "source": [
    "refined_dataframe['patna'].value_counts()"
   ]
  },
  {
   "cell_type": "code",
   "execution_count": 18,
   "metadata": {},
   "outputs": [],
   "source": [
    "## EXTENSION\n",
    "for column in refined_dataframe.columns[0:-2]:\n",
    "    list_of_indexes = refined_dataframe[column].to_numpy().nonzero()[0]\n",
    "    nonzero = len(list_of_indexes)\n",
    "    for indice in list_of_indexes:\n",
    "        refined_dataframe.at[indice, column] *=  np.log10(k/nonzero)"
   ]
  },
  {
   "cell_type": "code",
   "execution_count": 19,
   "metadata": {},
   "outputs": [
    {
     "data": {
      "text/plain": [
       "0.00000    3999\n",
       "7.20412       1\n",
       "Name: patna, dtype: int64"
      ]
     },
     "execution_count": 19,
     "metadata": {},
     "output_type": "execute_result"
    }
   ],
   "source": [
    "refined_dataframe['patna'].value_counts()"
   ]
  },
  {
   "cell_type": "markdown",
   "metadata": {},
   "source": [
    "#### Extension 2"
   ]
  },
  {
   "cell_type": "code",
   "execution_count": 20,
   "metadata": {},
   "outputs": [],
   "source": [
    "def denominator(abstract):\n",
    "    totals = 0\n",
    "    for i in set(abstract):\n",
    "        totals += (abstract.count(i))**2\n",
    "    return np.sqrt(totals)"
   ]
  },
  {
   "cell_type": "code",
   "execution_count": 21,
   "metadata": {},
   "outputs": [],
   "source": [
    "## Extension 2 - document length. First create new column that has the denominator of the document\n",
    "## adjustment equation.\n",
    "\n",
    "refined_dataframe['denominator'] = refined_dataframe['abstract_splitted'].apply(lambda x: denominator(x))\n"
   ]
  },
  {
   "cell_type": "code",
   "execution_count": 22,
   "metadata": {},
   "outputs": [
    {
     "data": {
      "text/html": [
       "<div>\n",
       "<style scoped>\n",
       "    .dataframe tbody tr th:only-of-type {\n",
       "        vertical-align: middle;\n",
       "    }\n",
       "\n",
       "    .dataframe tbody tr th {\n",
       "        vertical-align: top;\n",
       "    }\n",
       "\n",
       "    .dataframe thead th {\n",
       "        text-align: right;\n",
       "    }\n",
       "</style>\n",
       "<table border=\"1\" class=\"dataframe\">\n",
       "  <thead>\n",
       "    <tr style=\"text-align: right;\">\n",
       "      <th></th>\n",
       "      <th>25-</th>\n",
       "      <th>phmt112</th>\n",
       "      <th>machesky</th>\n",
       "      <th>gly-x-y</th>\n",
       "      <th>able</th>\n",
       "      <th>endowed</th>\n",
       "      <th>psbb-ycf8-psbh-petb-petd</th>\n",
       "      <th>14000</th>\n",
       "      <th>47-</th>\n",
       "      <th>profiling</th>\n",
       "      <th>...</th>\n",
       "      <th>overland</th>\n",
       "      <th>agricultural</th>\n",
       "      <th>substrate</th>\n",
       "      <th>1143</th>\n",
       "      <th>fluctuations</th>\n",
       "      <th>calf</th>\n",
       "      <th>pupae</th>\n",
       "      <th>abstract_splitted</th>\n",
       "      <th>target_class</th>\n",
       "      <th>denominator</th>\n",
       "    </tr>\n",
       "  </thead>\n",
       "  <tbody>\n",
       "    <tr>\n",
       "      <th>0</th>\n",
       "      <td>0.0</td>\n",
       "      <td>0.0</td>\n",
       "      <td>0.0</td>\n",
       "      <td>0.0</td>\n",
       "      <td>0.0</td>\n",
       "      <td>0.0</td>\n",
       "      <td>0.0</td>\n",
       "      <td>0.0</td>\n",
       "      <td>0.0</td>\n",
       "      <td>0.0</td>\n",
       "      <td>...</td>\n",
       "      <td>0.0</td>\n",
       "      <td>0.0</td>\n",
       "      <td>0.0</td>\n",
       "      <td>0.0</td>\n",
       "      <td>0.0</td>\n",
       "      <td>0.0</td>\n",
       "      <td>0.0</td>\n",
       "      <td>[202, 353, alkaliphilic, bacterium, bacillus, ...</td>\n",
       "      <td>B</td>\n",
       "      <td>9.797959</td>\n",
       "    </tr>\n",
       "    <tr>\n",
       "      <th>1</th>\n",
       "      <td>0.0</td>\n",
       "      <td>0.0</td>\n",
       "      <td>0.0</td>\n",
       "      <td>0.0</td>\n",
       "      <td>0.0</td>\n",
       "      <td>0.0</td>\n",
       "      <td>0.0</td>\n",
       "      <td>0.0</td>\n",
       "      <td>0.0</td>\n",
       "      <td>0.0</td>\n",
       "      <td>...</td>\n",
       "      <td>0.0</td>\n",
       "      <td>0.0</td>\n",
       "      <td>0.0</td>\n",
       "      <td>0.0</td>\n",
       "      <td>0.0</td>\n",
       "      <td>0.0</td>\n",
       "      <td>0.0</td>\n",
       "      <td>[1751377-bp, archaeon, methanobacterium, therm...</td>\n",
       "      <td>A</td>\n",
       "      <td>12.206556</td>\n",
       "    </tr>\n",
       "    <tr>\n",
       "      <th>2</th>\n",
       "      <td>0.0</td>\n",
       "      <td>0.0</td>\n",
       "      <td>0.0</td>\n",
       "      <td>0.0</td>\n",
       "      <td>0.0</td>\n",
       "      <td>0.0</td>\n",
       "      <td>0.0</td>\n",
       "      <td>0.0</td>\n",
       "      <td>0.0</td>\n",
       "      <td>0.0</td>\n",
       "      <td>...</td>\n",
       "      <td>0.0</td>\n",
       "      <td>0.0</td>\n",
       "      <td>0.0</td>\n",
       "      <td>0.0</td>\n",
       "      <td>0.0</td>\n",
       "      <td>0.0</td>\n",
       "      <td>0.0</td>\n",
       "      <td>[1992, started, assembling, ordered, cosmid, x...</td>\n",
       "      <td>E</td>\n",
       "      <td>7.280110</td>\n",
       "    </tr>\n",
       "    <tr>\n",
       "      <th>3</th>\n",
       "      <td>0.0</td>\n",
       "      <td>0.0</td>\n",
       "      <td>0.0</td>\n",
       "      <td>0.0</td>\n",
       "      <td>0.0</td>\n",
       "      <td>0.0</td>\n",
       "      <td>0.0</td>\n",
       "      <td>0.0</td>\n",
       "      <td>0.0</td>\n",
       "      <td>0.0</td>\n",
       "      <td>...</td>\n",
       "      <td>0.0</td>\n",
       "      <td>0.0</td>\n",
       "      <td>0.0</td>\n",
       "      <td>0.0</td>\n",
       "      <td>0.0</td>\n",
       "      <td>0.0</td>\n",
       "      <td>0.0</td>\n",
       "      <td>[aim, measure, mitochondrial, variability, rel...</td>\n",
       "      <td>E</td>\n",
       "      <td>14.491377</td>\n",
       "    </tr>\n",
       "    <tr>\n",
       "      <th>4</th>\n",
       "      <td>0.0</td>\n",
       "      <td>0.0</td>\n",
       "      <td>0.0</td>\n",
       "      <td>0.0</td>\n",
       "      <td>0.0</td>\n",
       "      <td>0.0</td>\n",
       "      <td>0.0</td>\n",
       "      <td>0.0</td>\n",
       "      <td>0.0</td>\n",
       "      <td>0.0</td>\n",
       "      <td>...</td>\n",
       "      <td>0.0</td>\n",
       "      <td>0.0</td>\n",
       "      <td>0.0</td>\n",
       "      <td>0.0</td>\n",
       "      <td>0.0</td>\n",
       "      <td>0.0</td>\n",
       "      <td>0.0</td>\n",
       "      <td>[spirulina, maxima, ferredoxin, h2n-ala-thr-ty...</td>\n",
       "      <td>B</td>\n",
       "      <td>5.291503</td>\n",
       "    </tr>\n",
       "  </tbody>\n",
       "</table>\n",
       "<p>5 rows × 31285 columns</p>\n",
       "</div>"
      ],
      "text/plain": [
       "   25-  phmt112  machesky  gly-x-y  able  endowed  psbb-ycf8-psbh-petb-petd  \\\n",
       "0  0.0      0.0       0.0      0.0   0.0      0.0                       0.0   \n",
       "1  0.0      0.0       0.0      0.0   0.0      0.0                       0.0   \n",
       "2  0.0      0.0       0.0      0.0   0.0      0.0                       0.0   \n",
       "3  0.0      0.0       0.0      0.0   0.0      0.0                       0.0   \n",
       "4  0.0      0.0       0.0      0.0   0.0      0.0                       0.0   \n",
       "\n",
       "   14000  47-  profiling  ...  overland  agricultural  substrate  1143  \\\n",
       "0    0.0  0.0        0.0  ...       0.0           0.0        0.0   0.0   \n",
       "1    0.0  0.0        0.0  ...       0.0           0.0        0.0   0.0   \n",
       "2    0.0  0.0        0.0  ...       0.0           0.0        0.0   0.0   \n",
       "3    0.0  0.0        0.0  ...       0.0           0.0        0.0   0.0   \n",
       "4    0.0  0.0        0.0  ...       0.0           0.0        0.0   0.0   \n",
       "\n",
       "   fluctuations  calf  pupae  \\\n",
       "0           0.0   0.0    0.0   \n",
       "1           0.0   0.0    0.0   \n",
       "2           0.0   0.0    0.0   \n",
       "3           0.0   0.0    0.0   \n",
       "4           0.0   0.0    0.0   \n",
       "\n",
       "                                   abstract_splitted  target_class  \\\n",
       "0  [202, 353, alkaliphilic, bacterium, bacillus, ...             B   \n",
       "1  [1751377-bp, archaeon, methanobacterium, therm...             A   \n",
       "2  [1992, started, assembling, ordered, cosmid, x...             E   \n",
       "3  [aim, measure, mitochondrial, variability, rel...             E   \n",
       "4  [spirulina, maxima, ferredoxin, h2n-ala-thr-ty...             B   \n",
       "\n",
       "   denominator  \n",
       "0     9.797959  \n",
       "1    12.206556  \n",
       "2     7.280110  \n",
       "3    14.491377  \n",
       "4     5.291503  \n",
       "\n",
       "[5 rows x 31285 columns]"
      ]
     },
     "execution_count": 22,
     "metadata": {},
     "output_type": "execute_result"
    }
   ],
   "source": [
    "refined_dataframe.head()"
   ]
  },
  {
   "cell_type": "code",
   "execution_count": 25,
   "metadata": {},
   "outputs": [],
   "source": [
    "## Divide every non-zero value by denominator in dataframe\n",
    "\n",
    "for column in refined_dataframe.columns[0:-3]:\n",
    "    list_of_indexes = refined_dataframe[column].to_numpy().nonzero()[0]\n",
    "    for indice in list_of_indexes:\n",
    "        refined_dataframe.at[indice, column] /=  refined_dataframe.at[indice, 'denominator']"
   ]
  },
  {
   "cell_type": "code",
   "execution_count": 26,
   "metadata": {},
   "outputs": [
    {
     "data": {
      "text/plain": [
       "0.00000    3999\n",
       "0.08894       1\n",
       "Name: patna, dtype: int64"
      ]
     },
     "execution_count": 26,
     "metadata": {},
     "output_type": "execute_result"
    }
   ],
   "source": [
    "refined_dataframe['patna'].value_counts()"
   ]
  },
  {
   "cell_type": "code",
   "execution_count": 27,
   "metadata": {},
   "outputs": [],
   "source": [
    "#The count(c)'s, used to calculate conditional probability P(w|c)\n",
    "A_count_C = As.iloc[:,:-3].values.sum()\n",
    "B_count_C = Bs.iloc[:,:-3].values.sum()\n",
    "E_count_C = Es.iloc[:,:-3].values.sum()\n",
    "V_count_C = Vs.iloc[:,:-3].values.sum()"
   ]
  },
  {
   "cell_type": "code",
   "execution_count": 28,
   "metadata": {},
   "outputs": [],
   "source": [
    "#|V|\n",
    "VV = len(refined_dataframe.columns) - 2"
   ]
  },
  {
   "cell_type": "code",
   "execution_count": 29,
   "metadata": {},
   "outputs": [],
   "source": [
    "#count(w,c)\n",
    "A_diction = As.iloc[:,:-3].sum(axis=0)\n",
    "B_diction = Bs.iloc[:,:-3].sum(axis=0)\n",
    "E_diction = Es.iloc[:,:-3].sum(axis=0)\n",
    "V_diction = Vs.iloc[:,:-3].sum(axis=0)"
   ]
  },
  {
   "cell_type": "code",
   "execution_count": 30,
   "metadata": {},
   "outputs": [],
   "source": [
    "#P(w|c)\n",
    "for key in A_diction.keys():\n",
    "    A_diction[key] = np.log10((A_diction[key] + 1)/(A_count_C + VV))\n",
    "for key in B_diction.keys():\n",
    "    B_diction[key] = np.log10((B_diction[key] + 1)/(B_count_C + VV))\n",
    "for key in E_diction.keys():\n",
    "    E_diction[key] = np.log10((E_diction[key] + 1)/(E_count_C + VV))\n",
    "for key in V_diction.keys():\n",
    "    V_diction[key] = np.log10((V_diction[key] + 1)/(V_count_C + VV))"
   ]
  },
  {
   "cell_type": "markdown",
   "metadata": {},
   "source": [
    "### Bayes time"
   ]
  },
  {
   "cell_type": "code",
   "execution_count": 31,
   "metadata": {},
   "outputs": [],
   "source": [
    "def predictnow(abstract):\n",
    "    answerstupule = []\n",
    "    \n",
    "    a_prob = prior_A\n",
    "    for i in set(abstract):\n",
    "        if i in A_diction.keys():\n",
    "            a_prob = a_prob + abstract.count(i) * A_diction[i]\n",
    "        else:\n",
    "            a_prob = a_prob + np.log10(1/(A_count_C + VV))\n",
    "    answerstupule.append(('A',a_prob))\n",
    "        \n",
    "    b_prob = prior_B\n",
    "    for j in set(abstract):\n",
    "        if j in B_diction.keys():\n",
    "            b_prob = b_prob + abstract.count(j) * B_diction[j]\n",
    "        else:\n",
    "            b_prob = b_prob + np.log10(1/(B_count_C + VV))\n",
    "    answerstupule.append(('B',b_prob))\n",
    "    \n",
    "    e_prob = prior_E\n",
    "    for k in set(abstract):\n",
    "        if k in E_diction.keys():\n",
    "            e_prob = e_prob + abstract.count(k) * E_diction[k]\n",
    "        else:\n",
    "            e_prob = e_prob + np.log10(1/(E_count_C + VV)) \n",
    "    answerstupule.append(('E',e_prob))\n",
    "    \n",
    "    v_prob = prior_V\n",
    "    for l in set(abstract):\n",
    "        if l in V_diction.keys():\n",
    "            v_prob = v_prob + abstract.count(l) * V_diction[l]\n",
    "        else:\n",
    "            v_prob = v_prob + np.log10(1/(V_count_C + VV)) \n",
    "    answerstupule.append(('V',v_prob))\n",
    "\n",
    "    answer = sorted(answerstupule, key=lambda x: -x[1])\n",
    "    \n",
    "    return answer[0][0]\n"
   ]
  },
  {
   "cell_type": "code",
   "execution_count": 25,
   "metadata": {},
   "outputs": [],
   "source": [
    "data['Bens_predictions'] = data.apply(lambda x: predictnow(x['abstract_splitted']), axis=1)\n",
    "#testingtime['target_class'] = testingtime.apply(lambda x: predictnow(x['abstract']), axis=1)"
   ]
  },
  {
   "cell_type": "code",
   "execution_count": 28,
   "metadata": {},
   "outputs": [
    {
     "data": {
      "text/plain": [
       "3995    V\n",
       "3996    V\n",
       "3997    A\n",
       "3998    V\n",
       "3999    B\n",
       "Name: Bens_predictions, dtype: object"
      ]
     },
     "execution_count": 28,
     "metadata": {},
     "output_type": "execute_result"
    }
   ],
   "source": [
    "data['Bens_predictions'].tail()"
   ]
  },
  {
   "cell_type": "code",
   "execution_count": 29,
   "metadata": {},
   "outputs": [
    {
     "data": {
      "text/plain": [
       "3995    E\n",
       "3996    E\n",
       "3997    E\n",
       "3998    E\n",
       "3999    B\n",
       "Name: class, dtype: object"
      ]
     },
     "execution_count": 29,
     "metadata": {},
     "output_type": "execute_result"
    }
   ],
   "source": [
    "data['class'].tail()"
   ]
  },
  {
   "cell_type": "markdown",
   "metadata": {},
   "source": [
    "## TEST"
   ]
  },
  {
   "cell_type": "code",
   "execution_count": 32,
   "metadata": {},
   "outputs": [
    {
     "data": {
      "text/html": [
       "<div>\n",
       "<style scoped>\n",
       "    .dataframe tbody tr th:only-of-type {\n",
       "        vertical-align: middle;\n",
       "    }\n",
       "\n",
       "    .dataframe tbody tr th {\n",
       "        vertical-align: top;\n",
       "    }\n",
       "\n",
       "    .dataframe thead th {\n",
       "        text-align: right;\n",
       "    }\n",
       "</style>\n",
       "<table border=\"1\" class=\"dataframe\">\n",
       "  <thead>\n",
       "    <tr style=\"text-align: right;\">\n",
       "      <th></th>\n",
       "      <th>id</th>\n",
       "      <th>abstract</th>\n",
       "    </tr>\n",
       "  </thead>\n",
       "  <tbody>\n",
       "    <tr>\n",
       "      <th>0</th>\n",
       "      <td>1</td>\n",
       "      <td>in a previous work all three components of com...</td>\n",
       "    </tr>\n",
       "    <tr>\n",
       "      <th>1</th>\n",
       "      <td>2</td>\n",
       "      <td>we compared morphology of two geographically c...</td>\n",
       "    </tr>\n",
       "    <tr>\n",
       "      <th>2</th>\n",
       "      <td>3</td>\n",
       "      <td>factor xiii mr 320000 is a blood coagulation f...</td>\n",
       "    </tr>\n",
       "    <tr>\n",
       "      <th>3</th>\n",
       "      <td>4</td>\n",
       "      <td>we report the characterisation of a human gene...</td>\n",
       "    </tr>\n",
       "    <tr>\n",
       "      <th>4</th>\n",
       "      <td>5</td>\n",
       "      <td>fat tissue plays a critical role in the regula...</td>\n",
       "    </tr>\n",
       "  </tbody>\n",
       "</table>\n",
       "</div>"
      ],
      "text/plain": [
       "   id                                           abstract\n",
       "0   1  in a previous work all three components of com...\n",
       "1   2  we compared morphology of two geographically c...\n",
       "2   3  factor xiii mr 320000 is a blood coagulation f...\n",
       "3   4  we report the characterisation of a human gene...\n",
       "4   5  fat tissue plays a critical role in the regula..."
      ]
     },
     "execution_count": 32,
     "metadata": {},
     "output_type": "execute_result"
    }
   ],
   "source": [
    "test = pd.read_csv('tst.csv')\n",
    "test.head()"
   ]
  },
  {
   "cell_type": "code",
   "execution_count": 33,
   "metadata": {},
   "outputs": [
    {
     "data": {
      "text/html": [
       "<div>\n",
       "<style scoped>\n",
       "    .dataframe tbody tr th:only-of-type {\n",
       "        vertical-align: middle;\n",
       "    }\n",
       "\n",
       "    .dataframe tbody tr th {\n",
       "        vertical-align: top;\n",
       "    }\n",
       "\n",
       "    .dataframe thead th {\n",
       "        text-align: right;\n",
       "    }\n",
       "</style>\n",
       "<table border=\"1\" class=\"dataframe\">\n",
       "  <thead>\n",
       "    <tr style=\"text-align: right;\">\n",
       "      <th></th>\n",
       "      <th>id</th>\n",
       "      <th>abstract</th>\n",
       "    </tr>\n",
       "  </thead>\n",
       "  <tbody>\n",
       "    <tr>\n",
       "      <th>0</th>\n",
       "      <td>1</td>\n",
       "      <td>[work, comamonas, testosteroni, b-356, bipheny...</td>\n",
       "    </tr>\n",
       "    <tr>\n",
       "      <th>1</th>\n",
       "      <td>2</td>\n",
       "      <td>[morphology, geographically, populations, trop...</td>\n",
       "    </tr>\n",
       "    <tr>\n",
       "      <th>2</th>\n",
       "      <td>3</td>\n",
       "      <td>[xiii, mr, 320000, blood, coagulation, stabili...</td>\n",
       "    </tr>\n",
       "    <tr>\n",
       "      <th>3</th>\n",
       "      <td>4</td>\n",
       "      <td>[characterisation, mcg18, endocrine, neoplasia...</td>\n",
       "    </tr>\n",
       "    <tr>\n",
       "      <th>4</th>\n",
       "      <td>5</td>\n",
       "      <td>[fat, tissue, critical, metabolism, proteomic,...</td>\n",
       "    </tr>\n",
       "  </tbody>\n",
       "</table>\n",
       "</div>"
      ],
      "text/plain": [
       "   id                                           abstract\n",
       "0   1  [work, comamonas, testosteroni, b-356, bipheny...\n",
       "1   2  [morphology, geographically, populations, trop...\n",
       "2   3  [xiii, mr, 320000, blood, coagulation, stabili...\n",
       "3   4  [characterisation, mcg18, endocrine, neoplasia...\n",
       "4   5  [fat, tissue, critical, metabolism, proteomic,..."
      ]
     },
     "execution_count": 33,
     "metadata": {},
     "output_type": "execute_result"
    }
   ],
   "source": [
    "test['abstract'] = test.apply(lambda x: x['abstract'].split(), axis=1)\n",
    "test['abstract'] = test['abstract'].apply(lambda x: [word for word in x if word not in stopwordss])\n",
    "test['abstract'] = test['abstract'].apply(lambda x: [word for word in x if word not in intersection])\n",
    "test.head()"
   ]
  },
  {
   "cell_type": "code",
   "execution_count": 34,
   "metadata": {},
   "outputs": [],
   "source": [
    "test['class'] = test.apply(lambda x: predictnow(x['abstract']), axis=1)\n",
    "test = test.drop(['abstract'], axis=1)"
   ]
  },
  {
   "cell_type": "code",
   "execution_count": 35,
   "metadata": {},
   "outputs": [
    {
     "data": {
      "text/plain": [
       "E    556\n",
       "B    372\n",
       "V     36\n",
       "A     36\n",
       "Name: class, dtype: int64"
      ]
     },
     "execution_count": 35,
     "metadata": {},
     "output_type": "execute_result"
    }
   ],
   "source": [
    "test['class'].value_counts()"
   ]
  },
  {
   "cell_type": "code",
   "execution_count": 36,
   "metadata": {},
   "outputs": [],
   "source": [
    "test.to_csv('Ben_3.csv', header=True, index=False)"
   ]
  },
  {
   "cell_type": "code",
   "execution_count": null,
   "metadata": {},
   "outputs": [],
   "source": []
  },
  {
   "cell_type": "code",
   "execution_count": null,
   "metadata": {},
   "outputs": [],
   "source": []
  },
  {
   "cell_type": "code",
   "execution_count": null,
   "metadata": {},
   "outputs": [],
   "source": []
  },
  {
   "cell_type": "code",
   "execution_count": null,
   "metadata": {},
   "outputs": [],
   "source": []
  }
 ],
 "metadata": {
  "kernelspec": {
   "display_name": "Python 3",
   "language": "python",
   "name": "python3"
  },
  "language_info": {
   "codemirror_mode": {
    "name": "ipython",
    "version": 3
   },
   "file_extension": ".py",
   "mimetype": "text/x-python",
   "name": "python",
   "nbconvert_exporter": "python",
   "pygments_lexer": "ipython3",
   "version": "3.6.8"
  }
 },
 "nbformat": 4,
 "nbformat_minor": 2
}
